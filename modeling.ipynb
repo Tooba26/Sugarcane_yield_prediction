{
 "cells": [
  {
   "cell_type": "code",
   "execution_count": null,
   "metadata": {
    "id": "xcPdO8bUmBRg"
   },
   "outputs": [],
   "source": [
    "import pandas as pd"
   ]
  },
  {
   "cell_type": "code",
   "execution_count": null,
   "metadata": {
    "id": "B3mcjWT9mBRn"
   },
   "outputs": [],
   "source": [
    "df = pd.read_csv('Final Sugarcane Yearly Data.csv')"
   ]
  },
  {
   "cell_type": "code",
   "execution_count": null,
   "metadata": {
    "id": "XR-fLK6imBRo",
    "outputId": "e4bc8da2-0aff-44a8-d2ff-6af5957f3b4d"
   },
   "outputs": [
    {
     "data": {
      "text/html": [
       "<div>\n",
       "<style scoped>\n",
       "    .dataframe tbody tr th:only-of-type {\n",
       "        vertical-align: middle;\n",
       "    }\n",
       "\n",
       "    .dataframe tbody tr th {\n",
       "        vertical-align: top;\n",
       "    }\n",
       "\n",
       "    .dataframe thead th {\n",
       "        text-align: right;\n",
       "    }\n",
       "</style>\n",
       "<table border=\"1\" class=\"dataframe\">\n",
       "  <thead>\n",
       "    <tr style=\"text-align: right;\">\n",
       "      <th></th>\n",
       "      <th>year</th>\n",
       "      <th>wind_speed</th>\n",
       "      <th>temp</th>\n",
       "      <th>hum</th>\n",
       "      <th>heat_idx</th>\n",
       "      <th>pres</th>\n",
       "      <th>prec</th>\n",
       "      <th>fossil_co2_em</th>\n",
       "      <th>co2_em_change</th>\n",
       "      <th>co2_em_per_capita</th>\n",
       "      <th>population</th>\n",
       "      <th>pop_change</th>\n",
       "      <th>agri_land</th>\n",
       "      <th>sugarcane_yield</th>\n",
       "      <th>optimal_yield</th>\n",
       "    </tr>\n",
       "  </thead>\n",
       "  <tbody>\n",
       "    <tr>\n",
       "      <th>0</th>\n",
       "      <td>2008</td>\n",
       "      <td>3.200000</td>\n",
       "      <td>26.566667</td>\n",
       "      <td>75.200000</td>\n",
       "      <td>28.550000</td>\n",
       "      <td>994.516667</td>\n",
       "      <td>612.233333</td>\n",
       "      <td>238304810</td>\n",
       "      <td>0.46</td>\n",
       "      <td>3.52</td>\n",
       "      <td>67619830</td>\n",
       "      <td>0.77</td>\n",
       "      <td>44.310908</td>\n",
       "      <td>69.728700</td>\n",
       "      <td>93.860002</td>\n",
       "    </tr>\n",
       "    <tr>\n",
       "      <th>1</th>\n",
       "      <td>2009</td>\n",
       "      <td>3.066667</td>\n",
       "      <td>27.333333</td>\n",
       "      <td>71.550000</td>\n",
       "      <td>29.716667</td>\n",
       "      <td>994.050000</td>\n",
       "      <td>644.800000</td>\n",
       "      <td>231428530</td>\n",
       "      <td>-2.89</td>\n",
       "      <td>3.40</td>\n",
       "      <td>68121080</td>\n",
       "      <td>0.74</td>\n",
       "      <td>44.492944</td>\n",
       "      <td>69.337100</td>\n",
       "      <td>93.860003</td>\n",
       "    </tr>\n",
       "    <tr>\n",
       "      <th>2</th>\n",
       "      <td>2010</td>\n",
       "      <td>2.733333</td>\n",
       "      <td>27.850000</td>\n",
       "      <td>74.566667</td>\n",
       "      <td>31.133333</td>\n",
       "      <td>994.433333</td>\n",
       "      <td>689.066667</td>\n",
       "      <td>245683200</td>\n",
       "      <td>6.16</td>\n",
       "      <td>3.58</td>\n",
       "      <td>68579447</td>\n",
       "      <td>0.67</td>\n",
       "      <td>44.674979</td>\n",
       "      <td>68.154700</td>\n",
       "      <td>93.860000</td>\n",
       "    </tr>\n",
       "    <tr>\n",
       "      <th>3</th>\n",
       "      <td>2011</td>\n",
       "      <td>3.016667</td>\n",
       "      <td>26.950000</td>\n",
       "      <td>75.016667</td>\n",
       "      <td>29.366667</td>\n",
       "      <td>994.033333</td>\n",
       "      <td>834.700000</td>\n",
       "      <td>246070350</td>\n",
       "      <td>0.16</td>\n",
       "      <td>3.57</td>\n",
       "      <td>69007208</td>\n",
       "      <td>0.62</td>\n",
       "      <td>44.682808</td>\n",
       "      <td>76.197100</td>\n",
       "      <td>93.860003</td>\n",
       "    </tr>\n",
       "    <tr>\n",
       "      <th>4</th>\n",
       "      <td>2012</td>\n",
       "      <td>3.100000</td>\n",
       "      <td>27.966667</td>\n",
       "      <td>69.983333</td>\n",
       "      <td>31.016667</td>\n",
       "      <td>992.983333</td>\n",
       "      <td>414.666667</td>\n",
       "      <td>264101970</td>\n",
       "      <td>7.33</td>\n",
       "      <td>3.80</td>\n",
       "      <td>69436098</td>\n",
       "      <td>0.62</td>\n",
       "      <td>44.690638</td>\n",
       "      <td>76.750496</td>\n",
       "      <td>93.860001</td>\n",
       "    </tr>\n",
       "  </tbody>\n",
       "</table>\n",
       "</div>"
      ],
      "text/plain": [
       "   year  wind_speed       temp        hum   heat_idx        pres        prec  \\\n",
       "0  2008    3.200000  26.566667  75.200000  28.550000  994.516667  612.233333   \n",
       "1  2009    3.066667  27.333333  71.550000  29.716667  994.050000  644.800000   \n",
       "2  2010    2.733333  27.850000  74.566667  31.133333  994.433333  689.066667   \n",
       "3  2011    3.016667  26.950000  75.016667  29.366667  994.033333  834.700000   \n",
       "4  2012    3.100000  27.966667  69.983333  31.016667  992.983333  414.666667   \n",
       "\n",
       "   fossil_co2_em  co2_em_change  co2_em_per_capita  population  pop_change  \\\n",
       "0      238304810           0.46               3.52    67619830        0.77   \n",
       "1      231428530          -2.89               3.40    68121080        0.74   \n",
       "2      245683200           6.16               3.58    68579447        0.67   \n",
       "3      246070350           0.16               3.57    69007208        0.62   \n",
       "4      264101970           7.33               3.80    69436098        0.62   \n",
       "\n",
       "   agri_land  sugarcane_yield  optimal_yield  \n",
       "0  44.310908        69.728700      93.860002  \n",
       "1  44.492944        69.337100      93.860003  \n",
       "2  44.674979        68.154700      93.860000  \n",
       "3  44.682808        76.197100      93.860003  \n",
       "4  44.690638        76.750496      93.860001  "
      ]
     },
     "execution_count": 5,
     "metadata": {},
     "output_type": "execute_result"
    }
   ],
   "source": [
    "df.head()"
   ]
  },
  {
   "cell_type": "code",
   "execution_count": null,
   "metadata": {
    "id": "SqUib3CWmBRp"
   },
   "outputs": [],
   "source": [
    "X = df[[\"wind_speed\",\t\"temp\",\t\"hum\",\t\"heat_idx\"\t,\"pres\"\t,\"prec\"]]\n",
    "y = df['sugarcane_yield']"
   ]
  },
  {
   "cell_type": "code",
   "execution_count": null,
   "metadata": {
    "id": "nRlD6EpcmBRq",
    "outputId": "1b725081-e999-4303-80de-9b445033f724"
   },
   "outputs": [
    {
     "data": {
      "text/html": [
       "<div>\n",
       "<style scoped>\n",
       "    .dataframe tbody tr th:only-of-type {\n",
       "        vertical-align: middle;\n",
       "    }\n",
       "\n",
       "    .dataframe tbody tr th {\n",
       "        vertical-align: top;\n",
       "    }\n",
       "\n",
       "    .dataframe thead th {\n",
       "        text-align: right;\n",
       "    }\n",
       "</style>\n",
       "<table border=\"1\" class=\"dataframe\">\n",
       "  <thead>\n",
       "    <tr style=\"text-align: right;\">\n",
       "      <th></th>\n",
       "      <th>wind_speed</th>\n",
       "      <th>temp</th>\n",
       "      <th>hum</th>\n",
       "      <th>heat_idx</th>\n",
       "      <th>pres</th>\n",
       "      <th>prec</th>\n",
       "    </tr>\n",
       "  </thead>\n",
       "  <tbody>\n",
       "    <tr>\n",
       "      <th>0</th>\n",
       "      <td>3.200000</td>\n",
       "      <td>26.566667</td>\n",
       "      <td>75.200000</td>\n",
       "      <td>28.550000</td>\n",
       "      <td>994.516667</td>\n",
       "      <td>612.233333</td>\n",
       "    </tr>\n",
       "    <tr>\n",
       "      <th>1</th>\n",
       "      <td>3.066667</td>\n",
       "      <td>27.333333</td>\n",
       "      <td>71.550000</td>\n",
       "      <td>29.716667</td>\n",
       "      <td>994.050000</td>\n",
       "      <td>644.800000</td>\n",
       "    </tr>\n",
       "    <tr>\n",
       "      <th>2</th>\n",
       "      <td>2.733333</td>\n",
       "      <td>27.850000</td>\n",
       "      <td>74.566667</td>\n",
       "      <td>31.133333</td>\n",
       "      <td>994.433333</td>\n",
       "      <td>689.066667</td>\n",
       "    </tr>\n",
       "    <tr>\n",
       "      <th>3</th>\n",
       "      <td>3.016667</td>\n",
       "      <td>26.950000</td>\n",
       "      <td>75.016667</td>\n",
       "      <td>29.366667</td>\n",
       "      <td>994.033333</td>\n",
       "      <td>834.700000</td>\n",
       "    </tr>\n",
       "    <tr>\n",
       "      <th>4</th>\n",
       "      <td>3.100000</td>\n",
       "      <td>27.966667</td>\n",
       "      <td>69.983333</td>\n",
       "      <td>31.016667</td>\n",
       "      <td>992.983333</td>\n",
       "      <td>414.666667</td>\n",
       "    </tr>\n",
       "  </tbody>\n",
       "</table>\n",
       "</div>"
      ],
      "text/plain": [
       "   wind_speed       temp        hum   heat_idx        pres        prec\n",
       "0    3.200000  26.566667  75.200000  28.550000  994.516667  612.233333\n",
       "1    3.066667  27.333333  71.550000  29.716667  994.050000  644.800000\n",
       "2    2.733333  27.850000  74.566667  31.133333  994.433333  689.066667\n",
       "3    3.016667  26.950000  75.016667  29.366667  994.033333  834.700000\n",
       "4    3.100000  27.966667  69.983333  31.016667  992.983333  414.666667"
      ]
     },
     "execution_count": 7,
     "metadata": {},
     "output_type": "execute_result"
    }
   ],
   "source": [
    "X.head()"
   ]
  },
  {
   "cell_type": "code",
   "execution_count": null,
   "metadata": {
    "id": "b8RQJEIKmBRq",
    "outputId": "837e0b39-eba9-4d67-af0e-807ae5de04b7"
   },
   "outputs": [
    {
     "data": {
      "text/plain": [
       "wind_speed    float64\n",
       "temp          float64\n",
       "hum           float64\n",
       "heat_idx      float64\n",
       "pres          float64\n",
       "prec          float64\n",
       "dtype: object"
      ]
     },
     "execution_count": 8,
     "metadata": {},
     "output_type": "execute_result"
    }
   ],
   "source": [
    "X.dtypes"
   ]
  },
  {
   "cell_type": "code",
   "execution_count": null,
   "metadata": {
    "id": "kmHCZXzzmBRs",
    "outputId": "4e88f817-ca73-4117-d582-297636fe02a0"
   },
   "outputs": [
    {
     "data": {
      "text/plain": [
       "dtype('float64')"
      ]
     },
     "execution_count": 9,
     "metadata": {},
     "output_type": "execute_result"
    }
   ],
   "source": [
    "y.dtypes"
   ]
  },
  {
   "cell_type": "code",
   "execution_count": null,
   "metadata": {
    "id": "V_hNqQxJmBRs",
    "outputId": "4faa78ea-8655-4846-95ee-294b158fcc8e"
   },
   "outputs": [
    {
     "data": {
      "text/plain": [
       "0    69.728700\n",
       "1    69.337100\n",
       "2    68.154700\n",
       "3    76.197100\n",
       "4    76.750496\n",
       "Name: sugarcane_yield, dtype: float64"
      ]
     },
     "execution_count": 11,
     "metadata": {},
     "output_type": "execute_result"
    }
   ],
   "source": [
    "y[:5]"
   ]
  },
  {
   "cell_type": "code",
   "execution_count": null,
   "metadata": {
    "id": "Z7KmkQOpmBRt",
    "outputId": "95f69300-272c-49aa-a813-516117189c4b"
   },
   "outputs": [
    {
     "data": {
      "text/plain": [
       "wind_speed    0\n",
       "temp          0\n",
       "hum           0\n",
       "heat_idx      0\n",
       "pres          0\n",
       "prec          0\n",
       "dtype: int64"
      ]
     },
     "execution_count": 12,
     "metadata": {},
     "output_type": "execute_result"
    }
   ],
   "source": [
    "X.isnull().sum()"
   ]
  },
  {
   "cell_type": "code",
   "execution_count": null,
   "metadata": {
    "id": "h01gbMwlmBRu",
    "outputId": "ef286b51-a2e0-4894-c622-2c37477f1f60"
   },
   "outputs": [
    {
     "data": {
      "text/plain": [
       "0"
      ]
     },
     "execution_count": 13,
     "metadata": {},
     "output_type": "execute_result"
    }
   ],
   "source": [
    "y.isnull().sum()"
   ]
  },
  {
   "cell_type": "code",
   "execution_count": null,
   "metadata": {
    "id": "O_p6gZlsmBRu",
    "outputId": "ef5d8330-15f5-4e98-e1dc-6aec335f6679"
   },
   "outputs": [
    {
     "name": "stderr",
     "output_type": "stream",
     "text": [
      "c:\\Users\\peter\\AppData\\Local\\Programs\\Python\\Python311\\Lib\\site-packages\\seaborn\\_oldcore.py:1119: FutureWarning: use_inf_as_na option is deprecated and will be removed in a future version. Convert inf values to NaN before operating instead.\n",
      "  with pd.option_context('mode.use_inf_as_na', True):\n"
     ]
    },
    {
     "data": {
      "text/plain": [
       "<Axes: xlabel='wind_speed', ylabel='Density'>"
      ]
     },
     "execution_count": 14,
     "metadata": {},
     "output_type": "execute_result"
    },
    {
     "data": {
      "image/png": "[encoded data removed]",
      "text/plain": [
       "<Figure size 640x480 with 1 Axes>"
      ]
     },
     "metadata": {},
     "output_type": "display_data"
    }
   ],
   "source": [
    "import seaborn as sns\n",
    "import matplotlib.pyplot as plt\n",
    "sns.kdeplot(X['wind_speed'], fill=True, label='wind speed')"
   ]
  },
  {
   "cell_type": "code",
   "execution_count": null,
   "metadata": {
    "id": "ffFP6Rm2mBRu",
    "outputId": "10b3121a-d4d8-40d0-9cb0-6573509940e5"
   },
   "outputs": [
    {
     "name": "stderr",
     "output_type": "stream",
     "text": [
      "c:\\Users\\peter\\AppData\\Local\\Programs\\Python\\Python311\\Lib\\site-packages\\seaborn\\_oldcore.py:1119: FutureWarning: use_inf_as_na option is deprecated and will be removed in a future version. Convert inf values to NaN before operating instead.\n",
      "  with pd.option_context('mode.use_inf_as_na', True):\n"
     ]
    },
    {
     "data": {
      "text/plain": [
       "<Axes: xlabel='temp', ylabel='Density'>"
      ]
     },
     "execution_count": 15,
     "metadata": {},
     "output_type": "execute_result"
    },
    {
     "data": {
      "image/png": "[encoded data removed]",
      "text/plain": [
       "<Figure size 640x480 with 1 Axes>"
      ]
     },
     "metadata": {},
     "output_type": "display_data"
    }
   ],
   "source": [
    "sns.kdeplot(X['temp'], fill=True, label='temp')"
   ]
  },
  {
   "cell_type": "code",
   "execution_count": null,
   "metadata": {
    "id": "BgTtEFUtmBRv",
    "outputId": "9ca02817-9478-451c-9687-cbbe02da965e"
   },
   "outputs": [
    {
     "name": "stderr",
     "output_type": "stream",
     "text": [
      "c:\\Users\\peter\\AppData\\Local\\Programs\\Python\\Python311\\Lib\\site-packages\\seaborn\\_oldcore.py:1119: FutureWarning: use_inf_as_na option is deprecated and will be removed in a future version. Convert inf values to NaN before operating instead.\n",
      "  with pd.option_context('mode.use_inf_as_na', True):\n"
     ]
    },
    {
     "data": {
      "text/plain": [
       "<Axes: xlabel='hum', ylabel='Density'>"
      ]
     },
     "execution_count": 16,
     "metadata": {},
     "output_type": "execute_result"
    },
    {
     "data": {
      "image/png": "[encoded data removed]",
      "text/plain": [
       "<Figure size 640x480 with 1 Axes>"
      ]
     },
     "metadata": {},
     "output_type": "display_data"
    }
   ],
   "source": [
    "sns.kdeplot(X['hum'], fill=True, label='hum')"
   ]
  },
  {
   "cell_type": "code",
   "execution_count": null,
   "metadata": {
    "id": "MTasMah8mBRv",
    "outputId": "1e963312-bf0a-4c1e-f7b8-289952d183a4"
   },
   "outputs": [
    {
     "name": "stderr",
     "output_type": "stream",
     "text": [
      "c:\\Users\\peter\\AppData\\Local\\Programs\\Python\\Python311\\Lib\\site-packages\\seaborn\\_oldcore.py:1119: FutureWarning: use_inf_as_na option is deprecated and will be removed in a future version. Convert inf values to NaN before operating instead.\n",
      "  with pd.option_context('mode.use_inf_as_na', True):\n"
     ]
    },
    {
     "data": {
      "text/plain": [
       "<Axes: xlabel='heat_idx', ylabel='Density'>"
      ]
     },
     "execution_count": 17,
     "metadata": {},
     "output_type": "execute_result"
    },
    {
     "data": {
      "image/png": "[encoded data removed]",
      "text/plain": [
       "<Figure size 640x480 with 1 Axes>"
      ]
     },
     "metadata": {},
     "output_type": "display_data"
    }
   ],
   "source": [
    "sns.kdeplot(X['heat_idx'], fill=True, label='heat_idx')"
   ]
  },
  {
   "cell_type": "code",
   "execution_count": null,
   "metadata": {
    "id": "aMGTJaupmBRv",
    "outputId": "6e5c90f1-b664-4e5b-df9f-840ed5bf0f52"
   },
   "outputs": [
    {
     "name": "stderr",
     "output_type": "stream",
     "text": [
      "c:\\Users\\peter\\AppData\\Local\\Programs\\Python\\Python311\\Lib\\site-packages\\seaborn\\_oldcore.py:1119: FutureWarning: use_inf_as_na option is deprecated and will be removed in a future version. Convert inf values to NaN before operating instead.\n",
      "  with pd.option_context('mode.use_inf_as_na', True):\n"
     ]
    },
    {
     "data": {
      "text/plain": [
       "<Axes: xlabel='pres', ylabel='Density'>"
      ]
     },
     "execution_count": 18,
     "metadata": {},
     "output_type": "execute_result"
    },
    {
     "data": {
      "image/png": "[encoded data removed]",
      "text/plain": [
       "<Figure size 640x480 with 1 Axes>"
      ]
     },
     "metadata": {},
     "output_type": "display_data"
    }
   ],
   "source": [
    "sns.kdeplot(X['pres'], fill=True, label='pres')"
   ]
  },
  {
   "cell_type": "code",
   "execution_count": null,
   "metadata": {
    "id": "33L4vT_DmBRv",
    "outputId": "e825e83c-583c-40c2-dd8a-f5d5e6642f25"
   },
   "outputs": [
    {
     "name": "stderr",
     "output_type": "stream",
     "text": [
      "c:\\Users\\peter\\AppData\\Local\\Programs\\Python\\Python311\\Lib\\site-packages\\seaborn\\_oldcore.py:1119: FutureWarning: use_inf_as_na option is deprecated and will be removed in a future version. Convert inf values to NaN before operating instead.\n",
      "  with pd.option_context('mode.use_inf_as_na', True):\n"
     ]
    },
    {
     "data": {
      "text/plain": [
       "<Axes: xlabel='prec', ylabel='Density'>"
      ]
     },
     "execution_count": 19,
     "metadata": {},
     "output_type": "execute_result"
    },
    {
     "data": {
      "image/png": "[encoded data removed]",
      "text/plain": [
       "<Figure size 640x480 with 1 Axes>"
      ]
     },
     "metadata": {},
     "output_type": "display_data"
    }
   ],
   "source": [
    "sns.kdeplot(X['prec'], fill=True, label='prec')"
   ]
  },
  {
   "cell_type": "code",
   "execution_count": null,
   "metadata": {
    "id": "NCygA47lmBRv"
   },
   "outputs": [],
   "source": [
    "# sns.kdeplot(X['fossil_co2_em'], fill=True, label='fossil_co2_em')\n"
   ]
  },
  {
   "cell_type": "code",
   "execution_count": null,
   "metadata": {
    "id": "Z-ErBSZVmBRw"
   },
   "outputs": [],
   "source": [
    "# sns.kdeplot(X['co2_em_change'], fill=True, label='co2_em_change')\n"
   ]
  },
  {
   "cell_type": "code",
   "execution_count": null,
   "metadata": {
    "id": "o5obDJY9mBRw"
   },
   "outputs": [],
   "source": [
    "# sns.kdeplot(X['co2_em_per_capita'], fill=True, label='co2_em_per_capita')\n"
   ]
  },
  {
   "cell_type": "code",
   "execution_count": null,
   "metadata": {
    "id": "N8nAlOcFmBRw"
   },
   "outputs": [],
   "source": [
    "# sns.kdeplot(X['population'], fill=True, label='population')"
   ]
  },
  {
   "cell_type": "code",
   "execution_count": null,
   "metadata": {
    "id": "4EX03smamBRw"
   },
   "outputs": [],
   "source": [
    "# sns.kdeplot(X['pop_change'], fill=True, label='pop_change')\n"
   ]
  },
  {
   "cell_type": "code",
   "execution_count": null,
   "metadata": {
    "id": "IdKPxvFUmBRw"
   },
   "outputs": [],
   "source": [
    "# sns.kdeplot(X['agri_land'], fill=True, label='agri_land')"
   ]
  },
  {
   "cell_type": "code",
   "execution_count": null,
   "metadata": {
    "id": "nPF6dxXRmBRw",
    "outputId": "da2cc00e-d47b-4ab4-a73b-186760ad8e40"
   },
   "outputs": [
    {
     "data": {
      "text/plain": [
       "Index(['wind_speed', 'temp', 'hum', 'heat_idx', 'pres', 'prec',\n",
       "       'fossil_co2_em', 'co2_em_change', 'co2_em_per_capita', 'population',\n",
       "       'pop_change', 'agri_land'],\n",
       "      dtype='object')"
      ]
     },
     "execution_count": 26,
     "metadata": {},
     "output_type": "execute_result"
    }
   ],
   "source": [
    "X.columns"
   ]
  },
  {
   "cell_type": "code",
   "execution_count": null,
   "metadata": {
    "id": "xiy54J4ymBRx"
   },
   "outputs": [],
   "source": [
    "# X.drop('co2_em_change', axis=1, inplace=True)"
   ]
  },
  {
   "cell_type": "code",
   "execution_count": null,
   "metadata": {
    "id": "xbLyymFimBRx",
    "outputId": "79571bb7-afcd-4b6f-b602-ddf167ebaf66"
   },
   "outputs": [
    {
     "data": {
      "text/html": [
       "<div>\n",
       "<style scoped>\n",
       "    .dataframe tbody tr th:only-of-type {\n",
       "        vertical-align: middle;\n",
       "    }\n",
       "\n",
       "    .dataframe tbody tr th {\n",
       "        vertical-align: top;\n",
       "    }\n",
       "\n",
       "    .dataframe thead th {\n",
       "        text-align: right;\n",
       "    }\n",
       "</style>\n",
       "<table border=\"1\" class=\"dataframe\">\n",
       "  <thead>\n",
       "    <tr style=\"text-align: right;\">\n",
       "      <th></th>\n",
       "      <th>wind_speed</th>\n",
       "      <th>temp</th>\n",
       "      <th>hum</th>\n",
       "      <th>heat_idx</th>\n",
       "      <th>pres</th>\n",
       "      <th>prec</th>\n",
       "    </tr>\n",
       "  </thead>\n",
       "  <tbody>\n",
       "    <tr>\n",
       "      <th>0</th>\n",
       "      <td>3.200000</td>\n",
       "      <td>26.566667</td>\n",
       "      <td>75.200000</td>\n",
       "      <td>28.550000</td>\n",
       "      <td>994.516667</td>\n",
       "      <td>612.233333</td>\n",
       "    </tr>\n",
       "    <tr>\n",
       "      <th>1</th>\n",
       "      <td>3.066667</td>\n",
       "      <td>27.333333</td>\n",
       "      <td>71.550000</td>\n",
       "      <td>29.716667</td>\n",
       "      <td>994.050000</td>\n",
       "      <td>644.800000</td>\n",
       "    </tr>\n",
       "    <tr>\n",
       "      <th>2</th>\n",
       "      <td>2.733333</td>\n",
       "      <td>27.850000</td>\n",
       "      <td>74.566667</td>\n",
       "      <td>31.133333</td>\n",
       "      <td>994.433333</td>\n",
       "      <td>689.066667</td>\n",
       "    </tr>\n",
       "    <tr>\n",
       "      <th>3</th>\n",
       "      <td>3.016667</td>\n",
       "      <td>26.950000</td>\n",
       "      <td>75.016667</td>\n",
       "      <td>29.366667</td>\n",
       "      <td>994.033333</td>\n",
       "      <td>834.700000</td>\n",
       "    </tr>\n",
       "    <tr>\n",
       "      <th>4</th>\n",
       "      <td>3.100000</td>\n",
       "      <td>27.966667</td>\n",
       "      <td>69.983333</td>\n",
       "      <td>31.016667</td>\n",
       "      <td>992.983333</td>\n",
       "      <td>414.666667</td>\n",
       "    </tr>\n",
       "  </tbody>\n",
       "</table>\n",
       "</div>"
      ],
      "text/plain": [
       "   wind_speed       temp        hum   heat_idx        pres        prec\n",
       "0    3.200000  26.566667  75.200000  28.550000  994.516667  612.233333\n",
       "1    3.066667  27.333333  71.550000  29.716667  994.050000  644.800000\n",
       "2    2.733333  27.850000  74.566667  31.133333  994.433333  689.066667\n",
       "3    3.016667  26.950000  75.016667  29.366667  994.033333  834.700000\n",
       "4    3.100000  27.966667  69.983333  31.016667  992.983333  414.666667"
      ]
     },
     "execution_count": 27,
     "metadata": {},
     "output_type": "execute_result"
    }
   ],
   "source": [
    "X.head()"
   ]
  },
  {
   "cell_type": "code",
   "execution_count": null,
   "metadata": {
    "id": "UtZX_XAumBRx",
    "outputId": "c4d653ba-c54b-4dfb-cad8-d6f54639daf1"
   },
   "outputs": [
    {
     "data": {
      "text/plain": [
       "0    69.728700\n",
       "1    69.337100\n",
       "2    68.154700\n",
       "3    76.197100\n",
       "4    76.750496\n",
       "Name: sugarcane_yield, dtype: float64"
      ]
     },
     "execution_count": 28,
     "metadata": {},
     "output_type": "execute_result"
    }
   ],
   "source": [
    "y.head()"
   ]
  },
  {
   "cell_type": "code",
   "execution_count": null,
   "metadata": {
    "id": "UzBb2RFdmBRx",
    "outputId": "5a66ff8a-c108-49cc-ec62-fab335f6618f"
   },
   "outputs": [
    {
     "data": {
      "text/plain": [
       "Index(['wind_speed', 'temp', 'hum', 'heat_idx', 'pres', 'prec'], dtype='object')"
      ]
     },
     "execution_count": 29,
     "metadata": {},
     "output_type": "execute_result"
    }
   ],
   "source": [
    "X.columns"
   ]
  },
  {
   "cell_type": "code",
   "execution_count": null,
   "metadata": {
    "id": "-2-113wVmBRx",
    "outputId": "0ad4ba11-f253-4632-deae-3170d083eda5"
   },
   "outputs": [
    {
     "name": "stdout",
     "output_type": "stream",
     "text": [
      "Best Parameters: {'classifier__C': 10, 'classifier__kernel': 'rbf'}\n",
      "Best Score (Negative MSE): -94.81949727838617\n",
      "Mean Squared Error: 224.25567430374895\n",
      "R^2 Score: -0.17730764051216585\n"
     ]
    }
   ],
   "source": [
    "from sklearn.pipeline import Pipeline\n",
    "from sklearn.compose import ColumnTransformer\n",
    "from sklearn.preprocessing import StandardScaler, RobustScaler\n",
    "from sklearn.svm import SVR\n",
    "from sklearn.metrics import mean_squared_error, r2_score\n",
    "from sklearn.model_selection import GridSearchCV\n",
    "import matplotlib.pyplot as plt\n",
    "from sklearn.model_selection import train_test_split\n",
    "\n",
    "\n",
    "wind_transformer= Pipeline([('scaler', StandardScaler())])\n",
    "temp_transformer= Pipeline([('scaler', RobustScaler())])\n",
    "hum_transformer= Pipeline([('scaler', RobustScaler())])\n",
    "heat_idx_transformer= Pipeline([('scaler', RobustScaler())])\n",
    "pres_transformer= Pipeline([('scaler', RobustScaler())])\n",
    "prec_transformer= Pipeline([('scaler', RobustScaler())])\n",
    "# fossil_co2_em_transformer= Pipeline([('scaler', RobustScaler())])\n",
    "# co2_em_per_capita_transformer= Pipeline([('scaler', RobustScaler())])\n",
    "# population_transformer= Pipeline([('scaler', RobustScaler())])\n",
    "# pop_change_transformer= Pipeline([('scaler', RobustScaler())])\n",
    "# agri_land_transformer= Pipeline([('scaler', RobustScaler())])\n",
    "\n",
    "#\twind_speed\ttemp\thum\theat_idx\tpres\tprec\tfossil_co2_em\tco2_em_per_capita\tpopulation\tpop_change\tagri_land\n",
    "# ['wind_speed', 'temp', 'hum', 'heat_idx', 'pres', 'prec',\n",
    "#        'fossil_co2_em', 'co2_em_per_capita', 'population', 'pop_change',\n",
    "#        'agri_land'],\n",
    "#       dtype='object')\n",
    "\n",
    "preprocessor = ColumnTransformer(\n",
    "    transformers=[\n",
    "        ('wind_trans', wind_transformer, ['wind_speed']),\n",
    "        ('temp_transformer', temp_transformer, ['temp']),\n",
    "        ('hum_transformer', hum_transformer, ['hum']),\n",
    "        ('heat_idx_transformer', heat_idx_transformer, ['heat_idx']),\n",
    "        ('pres_transformer', pres_transformer, ['pres']),\n",
    "        ('prec_transformer', prec_transformer, ['prec']),\n",
    "        # ('fossil_co2_em_transformer', fossil_co2_em_transformer, ['fossil_co2_em']),\n",
    "        # ('co2_em_per_capita_transformer', fossil_co2_em_transformer, ['co2_em_per_capita']),\n",
    "        # ('population_transformer', population_transformer, ['population']),\n",
    "        # ('pop_change_transformer', pop_change_transformer, ['pop_change']),\n",
    "        # ('agri_land_transformer', agri_land_transformer, ['agri_land'])\n",
    "    ],\n",
    "    remainder='passthrough'\n",
    ")\n",
    "\n",
    "\n",
    "X_train, X_test, y_train, y_test = train_test_split(X,y, test_size=0.2, random_state=42)\n",
    "pipeline = Pipeline([\n",
    "    ('preprocessor', preprocessor),\n",
    "    ('classifier', SVR())  # Replace with your desired model\n",
    "])\n",
    "\n",
    "# Define the parameter grid for GridSearchCV\n",
    "param_grid = {\n",
    "    'classifier__C': [0.1, 1, 5, 10],\n",
    "    'classifier__kernel': ['linear', 'rbf']\n",
    "}\n",
    "\n",
    "# Use scoring appropriate for regression\n",
    "grid_search = GridSearchCV(pipeline, param_grid, cv=10, scoring='neg_mean_squared_error')\n",
    "\n",
    "# Fit the GridSearchCV object to the training data\n",
    "grid_search.fit(X_train, y_train)\n",
    "\n",
    "# Print the best parameters and score\n",
    "print(\"Best Parameters:\", grid_search.best_params_)\n",
    "print(\"Best Score (Negative MSE):\", grid_search.best_score_)\n",
    "\n",
    "# Get the best model\n",
    "best_model = grid_search.best_estimator_\n",
    "\n",
    "# Evaluate the best model on the test data\n",
    "y_pred = best_model.predict(X_test)\n",
    "\n",
    "# Calculate and print regression metrics\n",
    "mse = mean_squared_error(y_test, y_pred)\n",
    "r2 = r2_score(y_test, y_pred)\n",
    "print(\"Mean Squared Error:\", mse)\n",
    "print(\"R^2 Score:\", r2)"
   ]
  },
  {
   "cell_type": "code",
   "execution_count": null,
   "metadata": {
    "id": "kjuklrpCmBRx",
    "outputId": "a7c3dc68-1ac8-48f9-9a47-1f960571c210"
   },
   "outputs": [
    {
     "name": "stdout",
     "output_type": "stream",
     "text": [
      "Running GridSearchCV for Simple Linear Regression...\n",
      "Best Parameters for Simple Linear Regression: {}\n",
      "Best Cross-Validated MSE for Simple Linear Regression: 39501.671854353\n",
      "\n",
      "Running GridSearchCV for Lasso Regression...\n",
      "Best Parameters for Lasso Regression: {'model__alpha': 1}\n",
      "Best Cross-Validated MSE for Lasso Regression: 83.14082909666047\n",
      "\n",
      "Running GridSearchCV for Ridge Regression...\n",
      "Best Parameters for Ridge Regression: {'model__alpha': 0.01}\n",
      "Best Cross-Validated MSE for Ridge Regression: 191.8740378023568\n",
      "\n",
      "Running GridSearchCV for Random Forest...\n",
      "Best Parameters for Random Forest: {'model__max_depth': 5, 'model__min_samples_split': 2, 'model__n_estimators': 50}\n",
      "Best Cross-Validated MSE for Random Forest: 84.43138221223379\n",
      "\n",
      "Simple Linear Regression - Test MSE: 103.817, R^2 Score: 0.455\n",
      "Lasso Regression - Test MSE: 113.414, R^2 Score: 0.405\n",
      "Ridge Regression - Test MSE: 95.047, R^2 Score: 0.501\n",
      "Random Forest - Test MSE: 202.048, R^2 Score: -0.061\n",
      "\n",
      "Best-performing model: Ridge Regression with Test MSE: 95.047\n"
     ]
    }
   ],
   "source": [
    "from sklearn.linear_model import LinearRegression, Ridge, Lasso\n",
    "from sklearn.tree import DecisionTreeRegressor\n",
    "from sklearn.ensemble import RandomForestRegressor\n",
    "pipelines = {\n",
    "    'Simple Linear Regression': Pipeline([\n",
    "        ('preprocessor', preprocessor),\n",
    "        ('model', LinearRegression())\n",
    "    ]),\n",
    "    'Lasso Regression': Pipeline([\n",
    "        ('preprocessor', preprocessor),\n",
    "        ('model', Lasso())\n",
    "    ]),\n",
    "    'Ridge Regression': Pipeline([\n",
    "        ('preprocessor', preprocessor),\n",
    "        ('model', Ridge())\n",
    "    ]),\n",
    "    # 'Decision Tree': Pipeline([\n",
    "    #     ('preprocessor', preprocessor),\n",
    "    #     ('model', DecisionTreeRegressor(random_state=42))\n",
    "    # ]),\n",
    "    'Random Forest': Pipeline([\n",
    "        ('preprocessor', preprocessor),\n",
    "        ('model', RandomForestRegressor(random_state=42))\n",
    "    ])\n",
    "}\n",
    "\n",
    "# Define parameter grids for each pipeline\n",
    "param_grids = {\n",
    "    'Simple Linear Regression': {},\n",
    "    'Lasso Regression': {'model__alpha': [0.001, 0.01, 0.1, 1, 10, 50, 100]},\n",
    "    'Ridge Regression': {'model__alpha': [0.001, 0.01, 0.1, 1, 10, 50, 100]},\n",
    "    'Decision Tree': {\n",
    "        'model__max_depth': [3, 5, 10, None],\n",
    "        'model__min_samples_split': [2, 5, 7, 10]\n",
    "    },\n",
    "    'Random Forest': {\n",
    "        'model__n_estimators': [50, 100, 150, 200, 250],\n",
    "        'model__max_depth': [3, 5,10, None],\n",
    "        'model__min_samples_split': [2, 5,7, 10]\n",
    "    }\n",
    "}\n",
    "\n",
    "# Dictionary to store best estimators\n",
    "best_estimators = {}\n",
    "best_model_name = None\n",
    "best_model = None\n",
    "best_mse = float('inf')\n",
    "results = {}\n",
    "# Perform Grid Search with Cross-Validation for each pipeline\n",
    "for model_name, pipeline in pipelines.items():\n",
    "    print(f\"Running GridSearchCV for {model_name}...\")\n",
    "    grid_search = GridSearchCV(pipeline, param_grids[model_name], cv=10, scoring='neg_mean_squared_error', n_jobs=-1)\n",
    "    grid_search.fit(X_train, y_train)\n",
    "    best_estimators[model_name] = grid_search.best_estimator_\n",
    "\n",
    "    print(f\"Best Parameters for {model_name}: {grid_search.best_params_}\")\n",
    "    print(f\"Best Cross-Validated MSE for {model_name}: {-grid_search.best_score_}\\n\")\n",
    "\n",
    "# Evaluate each best model on the test set\n",
    "for model_name, model in best_estimators.items():\n",
    "    y_pred = model.predict(X_test)\n",
    "    mse = mean_squared_error(y_test, y_pred)\n",
    "    r2 = r2_score(y_test, y_pred)\n",
    "    print(f\"{model_name} - Test MSE: {mse:.3f}, R^2 Score: {r2:.3f}\")\n",
    "\n",
    "    if mse < best_mse:\n",
    "        best_mse = mse\n",
    "        best_model_name = model_name\n",
    "        best_model = model\n",
    "\n",
    "# Print best-performing model\n",
    "print(f\"\\nBest-performing model: {best_model_name} with Test MSE: {best_mse:.3f}\")\n"
   ]
  },
  {
   "cell_type": "code",
   "execution_count": null,
   "metadata": {
    "id": "ikpqlGGOmBRy",
    "outputId": "8f4a853a-4203-47f2-ca5b-8d68c7ab6cd7"
   },
   "outputs": [
    {
     "name": "stdout",
     "output_type": "stream",
     "text": [
      "Running GridSearchCV for XGBoost...\n",
      "Best Parameters for XGBoost: {'model__colsample_bytree': 1.0, 'model__learning_rate': 0.01, 'model__max_depth': 3, 'model__n_estimators': 50, 'model__subsample': 1.0}\n",
      "Best Cross-Validated MSE for XGBoost: 98.69513784058641\n",
      "\n",
      "XGBoost - Test MSE: 151.677, R^2 Score: 0.204\n"
     ]
    },
    {
     "name": "stderr",
     "output_type": "stream",
     "text": [
      "c:\\Users\\peter\\AppData\\Local\\Programs\\Python\\Python311\\Lib\\site-packages\\numpy\\ma\\core.py:2820: RuntimeWarning: invalid value encountered in cast\n",
      "  _data = np.array(data, dtype=dtype, copy=copy,\n"
     ]
    }
   ],
   "source": [
    "from xgboost import XGBRegressor\n",
    "xgboost_pipeline = Pipeline([\n",
    "    ('preprocessor', preprocessor),\n",
    "    ('model', XGBRegressor(objective='reg:squarederror', random_state=42))\n",
    "])\n",
    "\n",
    "# Define parameter grid for XGBoost\n",
    "xgboost_param_grid = {\n",
    "    'model__n_estimators': [50, 100, 200],\n",
    "    'model__max_depth': [3, 5, 10],\n",
    "    'model__learning_rate': [0.001, 0.01, 0.1, 0.2],\n",
    "    'model__subsample': [0.7, 0.8, 1.0],\n",
    "    'model__colsample_bytree': [0.7, 0.8, 1.0]\n",
    "}\n",
    "\n",
    "# Perform Grid Search with Cross-Validation for XGBoost pipeline\n",
    "print(\"Running GridSearchCV for XGBoost...\")\n",
    "grid_search_xgb = GridSearchCV(xgboost_pipeline, xgboost_param_grid, cv=10, scoring='neg_mean_squared_error', n_jobs=-1)\n",
    "grid_search_xgb.fit(X_train, y_train)\n",
    "\n",
    "# Print the best parameters and score for XGBoost\n",
    "print(f\"Best Parameters for XGBoost: {grid_search_xgb.best_params_}\")\n",
    "print(f\"Best Cross-Validated MSE for XGBoost: {-grid_search_xgb.best_score_}\\n\")\n",
    "\n",
    "# Evaluate the best XGBoost model on the test set\n",
    "best_xgb_model = grid_search_xgb.best_estimator_\n",
    "y_pred_xgb = best_xgb_model.predict(X_test)\n",
    "mse_xgb = mean_squared_error(y_test, y_pred_xgb)\n",
    "r2_xgb = r2_score(y_test, y_pred_xgb)\n",
    "print(f\"XGBoost - Test MSE: {mse_xgb:.3f}, R^2 Score: {r2_xgb:.3f}\")"
   ]
  },
  {
   "cell_type": "code",
   "execution_count": null,
   "metadata": {
    "id": "lgwpJ-YzmBRz",
    "outputId": "35905992-ac41-4b9f-e1dd-53194b6a9f4c"
   },
   "outputs": [
    {
     "name": "stderr",
     "output_type": "stream",
     "text": [
      "c:\\Users\\peter\\AppData\\Local\\Programs\\Python\\Python311\\Lib\\site-packages\\seaborn\\_oldcore.py:1765: FutureWarning: unique with argument that is not not a Series, Index, ExtensionArray, or np.ndarray is deprecated and will raise in a future version.\n",
      "  order = pd.unique(vector)\n"
     ]
    },
    {
     "data": {
      "text/plain": [
       "Text(0, 0.5, 'Mean Squared Error')"
      ]
     },
     "execution_count": 33,
     "metadata": {},
     "output_type": "execute_result"
    },
    {
     "data": {
      "image/png": "[encoded data removed]",
      "text/plain": [
       "<Figure size 640x480 with 1 Axes>"
      ]
     },
     "metadata": {},
     "output_type": "display_data"
    }
   ],
   "source": [
    "x = ['SVR', \"SLR\", \"Lasso\", \"Ridge\", \"RF\", \"XGB\"]\n",
    "y = [224.25567430374895,103.817,113.414,  95.047,  202.048, 151.677]\n",
    "\n",
    "import seaborn as sns\n",
    "import matplotlib.pyplot as plt\n",
    "sns.barplot(x= x, y=y)\n",
    "plt.xlabel('Machine Learning Models')\n",
    "plt.ylabel('Mean Squared Error')"
   ]
  },
  {
   "cell_type": "code",
   "execution_count": null,
   "metadata": {
    "id": "n6ETrEUvmBRz"
   },
   "outputs": [],
   "source": [
    "# # Access the best Decision Tree model from GridSearchCV\n",
    "# best_dt_model = best_estimators['Decision Tree']\n",
    "\n",
    "# # Get feature importances from the DecisionTreeRegressor\n",
    "# # `best_dt_model` is a pipeline, so access the model with `named_steps['model']`\n",
    "# feature_importances = best_dt_model.named_steps['model'].feature_importances_\n",
    "\n",
    "# # If using ColumnTransformer, get feature names if available\n",
    "# try:\n",
    "#     # Get feature names from preprocessor if they are numeric columns\n",
    "#     feature_names = preprocessor.transformers_[0][2]  # List of column names used in transformer\n",
    "# except:\n",
    "#     feature_names = [f'Feature {i}' for i in range(len(feature_importances))]\n",
    "\n",
    "# # Print feature importances\n",
    "# for name, importance in zip(feature_names, feature_importances):\n",
    "#     print(f\"{name}: {importance:.4f}\")\n"
   ]
  },
  {
   "cell_type": "code",
   "execution_count": null,
   "metadata": {
    "id": "6PoVU-CamBR0",
    "outputId": "18b7df0d-1cc5-4c82-bdd6-a442fdbe6602"
   },
   "outputs": [
    {
     "data": {
      "text/plain": [
       "'Ridge Regression'"
      ]
     },
     "execution_count": 35,
     "metadata": {},
     "output_type": "execute_result"
    }
   ],
   "source": [
    "best_model_name"
   ]
  },
  {
   "cell_type": "code",
   "execution_count": null,
   "metadata": {
    "id": "dHKVkNJMmBR0",
    "outputId": "0ceb0632-3776-42e4-8535-b8437b138a39"
   },
   "outputs": [
    {
     "data": {
      "text/plain": [
       "array(['wind_speed', 'temp', 'hum', 'heat_idx', 'pres', 'prec'],\n",
       "      dtype=object)"
      ]
     },
     "execution_count": 36,
     "metadata": {},
     "output_type": "execute_result"
    }
   ],
   "source": [
    "best_model.feature_names_in_"
   ]
  },
  {
   "cell_type": "code",
   "execution_count": null,
   "metadata": {
    "id": "g8nKwIVjmBR0"
   },
   "outputs": [],
   "source": [
    "# # Access feature importances of the best-performing DecisionTreeRegressor model\n",
    "# feature_importances = best_model.named_steps['model'].feature_importances_\n",
    "\n",
    "# # If you're using a ColumnTransformer, get the feature names if available\n",
    "# try:\n",
    "#     # Adjust this based on your column transformer setup\n",
    "#     feature_names = X.columns  # List of column names used in transformer\n",
    "# except:\n",
    "#     feature_names = [f'Feature {i}' for i in range(len(feature_importances))]\n",
    "\n",
    "# # Print feature importances\n",
    "# print(\"Feature Importances for the Best Model (Decision Tree):\")\n",
    "# for name, importance in zip(feature_names, feature_importances):\n",
    "#     print(f\"{name}: {importance:.4f}\")"
   ]
  },
  {
   "cell_type": "code",
   "execution_count": null,
   "metadata": {
    "id": "RNhlOZ3omBR0",
    "outputId": "da6df022-7cf3-428b-8397-98bf240dacec"
   },
   "outputs": [
    {
     "data": {
      "text/plain": [
       "95.0469233413939"
      ]
     },
     "execution_count": 39,
     "metadata": {},
     "output_type": "execute_result"
    }
   ],
   "source": [
    "best_mse"
   ]
  },
  {
   "cell_type": "code",
   "execution_count": null,
   "metadata": {
    "id": "cvRFSSX5mBR1",
    "outputId": "a3a711e4-a375-4fea-c4da-c640428ad50a"
   },
   "outputs": [
    {
     "name": "stdout",
     "output_type": "stream",
     "text": [
      "Feature Importances (Coefficients) for the Best Model (Ridge Regression):\n",
      "wind_speed: 5.4958\n",
      "temp: 13.4356\n",
      "hum: 5.2489\n",
      "heat_idx: -9.3602\n",
      "pres: -0.1121\n",
      "prec: -0.7280\n"
     ]
    }
   ],
   "source": [
    "# Access feature importances (coefficients) of the best-performing RidgeRegression model\n",
    "coefficients = best_model.named_steps['model'].coef_\n",
    "\n",
    "# If you're using a ColumnTransformer, get the feature names if available\n",
    "try:\n",
    "    # Adjust this based on your column transformer setup\n",
    "    feature_names = X.columns  # List of column names used in transformer\n",
    "except:\n",
    "    feature_names = [f'Feature {i}' for i in range(len(coefficients))]\n",
    "\n",
    "# Print feature importances\n",
    "print(\"Feature Importances (Coefficients) for the Best Model (Ridge Regression):\")\n",
    "for name, coef in zip(feature_names, coefficients):\n",
    "    print(f\"{name}: {coef:.4f}\")\n"
   ]
  },
  {
   "cell_type": "code",
   "execution_count": null,
   "metadata": {
    "id": "7Fy9LkBdmBR1",
    "outputId": "2d1e7df0-7bc9-4c56-d5e4-16e9df1da0dd"
   },
   "outputs": [
    {
     "data": {
      "text/plain": [
       "Index(['wind_speed', 'temp', 'hum', 'heat_idx', 'pres', 'prec',\n",
       "       'fossil_co2_em', 'co2_em_per_capita', 'population', 'pop_change',\n",
       "       'agri_land'],\n",
       "      dtype='object')"
      ]
     },
     "execution_count": 55,
     "metadata": {},
     "output_type": "execute_result"
    }
   ],
   "source": [
    "feature_names"
   ]
  },
  {
   "cell_type": "code",
   "execution_count": null,
   "metadata": {
    "id": "78g6SSgCmBR1",
    "outputId": "8ec681be-8e2a-49f7-c9ab-454bd5fb587a"
   },
   "outputs": [
    {
     "data": {
      "text/plain": [
       "<Axes: >"
      ]
     },
     "execution_count": 41,
     "metadata": {},
     "output_type": "execute_result"
    },
    {
     "data": {
      "image/png": "[encoded data removed]",
      "text/plain": [
       "<Figure size 640x480 with 1 Axes>"
      ]
     },
     "metadata": {},
     "output_type": "display_data"
    }
   ],
   "source": [
    "sns.barplot(x=coefficients, y=feature_names)"
   ]
  },
  {
   "cell_type": "code",
   "execution_count": null,
   "metadata": {
    "id": "HF1OABmtmBR8",
    "outputId": "9fc8efef-0719-4be1-85cb-038567d0fe1c"
   },
   "outputs": [
    {
     "data": {
      "text/html": [
       "<div>\n",
       "<style scoped>\n",
       "    .dataframe tbody tr th:only-of-type {\n",
       "        vertical-align: middle;\n",
       "    }\n",
       "\n",
       "    .dataframe tbody tr th {\n",
       "        vertical-align: top;\n",
       "    }\n",
       "\n",
       "    .dataframe thead th {\n",
       "        text-align: right;\n",
       "    }\n",
       "</style>\n",
       "<table border=\"1\" class=\"dataframe\">\n",
       "  <thead>\n",
       "    <tr style=\"text-align: right;\">\n",
       "      <th></th>\n",
       "      <th>wind_speed</th>\n",
       "      <th>temp</th>\n",
       "      <th>hum</th>\n",
       "      <th>heat_idx</th>\n",
       "      <th>pres</th>\n",
       "      <th>prec</th>\n",
       "    </tr>\n",
       "  </thead>\n",
       "  <tbody>\n",
       "    <tr>\n",
       "      <th>8</th>\n",
       "      <td>2.950000</td>\n",
       "      <td>27.383333</td>\n",
       "      <td>76.850000</td>\n",
       "      <td>30.516667</td>\n",
       "      <td>993.800000</td>\n",
       "      <td>767.400000</td>\n",
       "    </tr>\n",
       "    <tr>\n",
       "      <th>5</th>\n",
       "      <td>2.816667</td>\n",
       "      <td>27.350000</td>\n",
       "      <td>73.866667</td>\n",
       "      <td>29.933333</td>\n",
       "      <td>932.883333</td>\n",
       "      <td>670.366667</td>\n",
       "    </tr>\n",
       "    <tr>\n",
       "      <th>2</th>\n",
       "      <td>2.733333</td>\n",
       "      <td>27.850000</td>\n",
       "      <td>74.566667</td>\n",
       "      <td>31.133333</td>\n",
       "      <td>994.433333</td>\n",
       "      <td>689.066667</td>\n",
       "    </tr>\n",
       "    <tr>\n",
       "      <th>1</th>\n",
       "      <td>3.066667</td>\n",
       "      <td>27.333333</td>\n",
       "      <td>71.550000</td>\n",
       "      <td>29.716667</td>\n",
       "      <td>994.050000</td>\n",
       "      <td>644.800000</td>\n",
       "    </tr>\n",
       "    <tr>\n",
       "      <th>12</th>\n",
       "      <td>2.650000</td>\n",
       "      <td>26.216667</td>\n",
       "      <td>75.200000</td>\n",
       "      <td>28.233333</td>\n",
       "      <td>995.166667</td>\n",
       "      <td>721.600000</td>\n",
       "    </tr>\n",
       "  </tbody>\n",
       "</table>\n",
       "</div>"
      ],
      "text/plain": [
       "    wind_speed       temp        hum   heat_idx        pres        prec\n",
       "8     2.950000  27.383333  76.850000  30.516667  993.800000  767.400000\n",
       "5     2.816667  27.350000  73.866667  29.933333  932.883333  670.366667\n",
       "2     2.733333  27.850000  74.566667  31.133333  994.433333  689.066667\n",
       "1     3.066667  27.333333  71.550000  29.716667  994.050000  644.800000\n",
       "12    2.650000  26.216667  75.200000  28.233333  995.166667  721.600000"
      ]
     },
     "execution_count": 44,
     "metadata": {},
     "output_type": "execute_result"
    }
   ],
   "source": [
    "X_train.head()"
   ]
  },
  {
   "cell_type": "code",
   "execution_count": null,
   "metadata": {
    "id": "HtPc2Vv4mBR8",
    "outputId": "c31a444d-7bdb-4996-a2b3-10a05011b086"
   },
   "outputs": [
    {
     "data": {
      "text/plain": [
       "(3,)"
      ]
     },
     "execution_count": 49,
     "metadata": {},
     "output_type": "execute_result"
    }
   ],
   "source": [
    "y_test.shape"
   ]
  },
  {
   "cell_type": "code",
   "execution_count": null,
   "metadata": {
    "id": "YqBYqpVvmBR8",
    "outputId": "144f3b73-d158-4a2c-b374-8d9f23a6f4cf"
   },
   "outputs": [
    {
     "data": {
      "text/html": [
       "<style>#sk-container-id-2 {\n",
       "  /* Definition of color scheme common for light and dark mode */\n",
       "  --sklearn-color-text: black;\n",
       "  --sklearn-color-line: gray;\n",
       "  /* Definition of color scheme for unfitted estimators */\n",
       "  --sklearn-color-unfitted-level-0: #fff5e6;\n",
       "  --sklearn-color-unfitted-level-1: #f6e4d2;\n",
       "  --sklearn-color-unfitted-level-2: #ffe0b3;\n",
       "  --sklearn-color-unfitted-level-3: chocolate;\n",
       "  /* Definition of color scheme for fitted estimators */\n",
       "  --sklearn-color-fitted-level-0: #f0f8ff;\n",
       "  --sklearn-color-fitted-level-1: #d4ebff;\n",
       "  --sklearn-color-fitted-level-2: #b3dbfd;\n",
       "  --sklearn-color-fitted-level-3: cornflowerblue;\n",
       "\n",
       "  /* Specific color for light theme */\n",
       "  --sklearn-color-text-on-default-background: var(--sg-text-color, var(--theme-code-foreground, var(--jp-content-font-color1, black)));\n",
       "  --sklearn-color-background: var(--sg-background-color, var(--theme-background, var(--jp-layout-color0, white)));\n",
       "  --sklearn-color-border-box: var(--sg-text-color, var(--theme-code-foreground, var(--jp-content-font-color1, black)));\n",
       "  --sklearn-color-icon: #696969;\n",
       "\n",
       "  @media (prefers-color-scheme: dark) {\n",
       "    /* Redefinition of color scheme for dark theme */\n",
       "    --sklearn-color-text-on-default-background: var(--sg-text-color, var(--theme-code-foreground, var(--jp-content-font-color1, white)));\n",
       "    --sklearn-color-background: var(--sg-background-color, var(--theme-background, var(--jp-layout-color0, #111)));\n",
       "    --sklearn-color-border-box: var(--sg-text-color, var(--theme-code-foreground, var(--jp-content-font-color1, white)));\n",
       "    --sklearn-color-icon: #878787;\n",
       "  }\n",
       "}\n",
       "\n",
       "#sk-container-id-2 {\n",
       "  color: var(--sklearn-color-text);\n",
       "}\n",
       "\n",
       "#sk-container-id-2 pre {\n",
       "  padding: 0;\n",
       "}\n",
       "\n",
       "#sk-container-id-2 input.sk-hidden--visually {\n",
       "  border: 0;\n",
       "  clip: rect(1px 1px 1px 1px);\n",
       "  clip: rect(1px, 1px, 1px, 1px);\n",
       "  height: 1px;\n",
       "  margin: -1px;\n",
       "  overflow: hidden;\n",
       "  padding: 0;\n",
       "  position: absolute;\n",
       "  width: 1px;\n",
       "}\n",
       "\n",
       "#sk-container-id-2 div.sk-dashed-wrapped {\n",
       "  border: 1px dashed var(--sklearn-color-line);\n",
       "  margin: 0 0.4em 0.5em 0.4em;\n",
       "  box-sizing: border-box;\n",
       "  padding-bottom: 0.4em;\n",
       "  background-color: var(--sklearn-color-background);\n",
       "}\n",
       "\n",
       "#sk-container-id-2 div.sk-container {\n",
       "  /* jupyter's `normalize.less` sets `[hidden] { display: none; }`\n",
       "     but bootstrap.min.css set `[hidden] { display: none !important; }`\n",
       "     so we also need the `!important` here to be able to override the\n",
       "     default hidden behavior on the sphinx rendered scikit-learn.org.\n",
       "     See: https://github.com/scikit-learn/scikit-learn/issues/21755 */\n",
       "  display: inline-block !important;\n",
       "  position: relative;\n",
       "}\n",
       "\n",
       "#sk-container-id-2 div.sk-text-repr-fallback {\n",
       "  display: none;\n",
       "}\n",
       "\n",
       "div.sk-parallel-item,\n",
       "div.sk-serial,\n",
       "div.sk-item {\n",
       "  /* draw centered vertical line to link estimators */\n",
       "  background-image: linear-gradient(var(--sklearn-color-text-on-default-background), var(--sklearn-color-text-on-default-background));\n",
       "  background-size: 2px 100%;\n",
       "  background-repeat: no-repeat;\n",
       "  background-position: center center;\n",
       "}\n",
       "\n",
       "/* Parallel-specific style estimator block */\n",
       "\n",
       "#sk-container-id-2 div.sk-parallel-item::after {\n",
       "  content: \"\";\n",
       "  width: 100%;\n",
       "  border-bottom: 2px solid var(--sklearn-color-text-on-default-background);\n",
       "  flex-grow: 1;\n",
       "}\n",
       "\n",
       "#sk-container-id-2 div.sk-parallel {\n",
       "  display: flex;\n",
       "  align-items: stretch;\n",
       "  justify-content: center;\n",
       "  background-color: var(--sklearn-color-background);\n",
       "  position: relative;\n",
       "}\n",
       "\n",
       "#sk-container-id-2 div.sk-parallel-item {\n",
       "  display: flex;\n",
       "  flex-direction: column;\n",
       "}\n",
       "\n",
       "#sk-container-id-2 div.sk-parallel-item:first-child::after {\n",
       "  align-self: flex-end;\n",
       "  width: 50%;\n",
       "}\n",
       "\n",
       "#sk-container-id-2 div.sk-parallel-item:last-child::after {\n",
       "  align-self: flex-start;\n",
       "  width: 50%;\n",
       "}\n",
       "\n",
       "#sk-container-id-2 div.sk-parallel-item:only-child::after {\n",
       "  width: 0;\n",
       "}\n",
       "\n",
       "/* Serial-specific style estimator block */\n",
       "\n",
       "#sk-container-id-2 div.sk-serial {\n",
       "  display: flex;\n",
       "  flex-direction: column;\n",
       "  align-items: center;\n",
       "  background-color: var(--sklearn-color-background);\n",
       "  padding-right: 1em;\n",
       "  padding-left: 1em;\n",
       "}\n",
       "\n",
       "\n",
       "/* Toggleable style: style used for estimator/Pipeline/ColumnTransformer box that is\n",
       "clickable and can be expanded/collapsed.\n",
       "- Pipeline and ColumnTransformer use this feature and define the default style\n",
       "- Estimators will overwrite some part of the style using the `sk-estimator` class\n",
       "*/\n",
       "\n",
       "/* Pipeline and ColumnTransformer style (default) */\n",
       "\n",
       "#sk-container-id-2 div.sk-toggleable {\n",
       "  /* Default theme specific background. It is overwritten whether we have a\n",
       "  specific estimator or a Pipeline/ColumnTransformer */\n",
       "  background-color: var(--sklearn-color-background);\n",
       "}\n",
       "\n",
       "/* Toggleable label */\n",
       "#sk-container-id-2 label.sk-toggleable__label {\n",
       "  cursor: pointer;\n",
       "  display: block;\n",
       "  width: 100%;\n",
       "  margin-bottom: 0;\n",
       "  padding: 0.5em;\n",
       "  box-sizing: border-box;\n",
       "  text-align: center;\n",
       "}\n",
       "\n",
       "#sk-container-id-2 label.sk-toggleable__label-arrow:before {\n",
       "  /* Arrow on the left of the label */\n",
       "  content: \"▸\";\n",
       "  float: left;\n",
       "  margin-right: 0.25em;\n",
       "  color: var(--sklearn-color-icon);\n",
       "}\n",
       "\n",
       "#sk-container-id-2 label.sk-toggleable__label-arrow:hover:before {\n",
       "  color: var(--sklearn-color-text);\n",
       "}\n",
       "\n",
       "/* Toggleable content - dropdown */\n",
       "\n",
       "#sk-container-id-2 div.sk-toggleable__content {\n",
       "  max-height: 0;\n",
       "  max-width: 0;\n",
       "  overflow: hidden;\n",
       "  text-align: left;\n",
       "  /* unfitted */\n",
       "  background-color: var(--sklearn-color-unfitted-level-0);\n",
       "}\n",
       "\n",
       "#sk-container-id-2 div.sk-toggleable__content.fitted {\n",
       "  /* fitted */\n",
       "  background-color: var(--sklearn-color-fitted-level-0);\n",
       "}\n",
       "\n",
       "#sk-container-id-2 div.sk-toggleable__content pre {\n",
       "  margin: 0.2em;\n",
       "  border-radius: 0.25em;\n",
       "  color: var(--sklearn-color-text);\n",
       "  /* unfitted */\n",
       "  background-color: var(--sklearn-color-unfitted-level-0);\n",
       "}\n",
       "\n",
       "#sk-container-id-2 div.sk-toggleable__content.fitted pre {\n",
       "  /* unfitted */\n",
       "  background-color: var(--sklearn-color-fitted-level-0);\n",
       "}\n",
       "\n",
       "#sk-container-id-2 input.sk-toggleable__control:checked~div.sk-toggleable__content {\n",
       "  /* Expand drop-down */\n",
       "  max-height: 200px;\n",
       "  max-width: 100%;\n",
       "  overflow: auto;\n",
       "}\n",
       "\n",
       "#sk-container-id-2 input.sk-toggleable__control:checked~label.sk-toggleable__label-arrow:before {\n",
       "  content: \"▾\";\n",
       "}\n",
       "\n",
       "/* Pipeline/ColumnTransformer-specific style */\n",
       "\n",
       "#sk-container-id-2 div.sk-label input.sk-toggleable__control:checked~label.sk-toggleable__label {\n",
       "  color: var(--sklearn-color-text);\n",
       "  background-color: var(--sklearn-color-unfitted-level-2);\n",
       "}\n",
       "\n",
       "#sk-container-id-2 div.sk-label.fitted input.sk-toggleable__control:checked~label.sk-toggleable__label {\n",
       "  background-color: var(--sklearn-color-fitted-level-2);\n",
       "}\n",
       "\n",
       "/* Estimator-specific style */\n",
       "\n",
       "/* Colorize estimator box */\n",
       "#sk-container-id-2 div.sk-estimator input.sk-toggleable__control:checked~label.sk-toggleable__label {\n",
       "  /* unfitted */\n",
       "  background-color: var(--sklearn-color-unfitted-level-2);\n",
       "}\n",
       "\n",
       "#sk-container-id-2 div.sk-estimator.fitted input.sk-toggleable__control:checked~label.sk-toggleable__label {\n",
       "  /* fitted */\n",
       "  background-color: var(--sklearn-color-fitted-level-2);\n",
       "}\n",
       "\n",
       "#sk-container-id-2 div.sk-label label.sk-toggleable__label,\n",
       "#sk-container-id-2 div.sk-label label {\n",
       "  /* The background is the default theme color */\n",
       "  color: var(--sklearn-color-text-on-default-background);\n",
       "}\n",
       "\n",
       "/* On hover, darken the color of the background */\n",
       "#sk-container-id-2 div.sk-label:hover label.sk-toggleable__label {\n",
       "  color: var(--sklearn-color-text);\n",
       "  background-color: var(--sklearn-color-unfitted-level-2);\n",
       "}\n",
       "\n",
       "/* Label box, darken color on hover, fitted */\n",
       "#sk-container-id-2 div.sk-label.fitted:hover label.sk-toggleable__label.fitted {\n",
       "  color: var(--sklearn-color-text);\n",
       "  background-color: var(--sklearn-color-fitted-level-2);\n",
       "}\n",
       "\n",
       "/* Estimator label */\n",
       "\n",
       "#sk-container-id-2 div.sk-label label {\n",
       "  font-family: monospace;\n",
       "  font-weight: bold;\n",
       "  display: inline-block;\n",
       "  line-height: 1.2em;\n",
       "}\n",
       "\n",
       "#sk-container-id-2 div.sk-label-container {\n",
       "  text-align: center;\n",
       "}\n",
       "\n",
       "/* Estimator-specific */\n",
       "#sk-container-id-2 div.sk-estimator {\n",
       "  font-family: monospace;\n",
       "  border: 1px dotted var(--sklearn-color-border-box);\n",
       "  border-radius: 0.25em;\n",
       "  box-sizing: border-box;\n",
       "  margin-bottom: 0.5em;\n",
       "  /* unfitted */\n",
       "  background-color: var(--sklearn-color-unfitted-level-0);\n",
       "}\n",
       "\n",
       "#sk-container-id-2 div.sk-estimator.fitted {\n",
       "  /* fitted */\n",
       "  background-color: var(--sklearn-color-fitted-level-0);\n",
       "}\n",
       "\n",
       "/* on hover */\n",
       "#sk-container-id-2 div.sk-estimator:hover {\n",
       "  /* unfitted */\n",
       "  background-color: var(--sklearn-color-unfitted-level-2);\n",
       "}\n",
       "\n",
       "#sk-container-id-2 div.sk-estimator.fitted:hover {\n",
       "  /* fitted */\n",
       "  background-color: var(--sklearn-color-fitted-level-2);\n",
       "}\n",
       "\n",
       "/* Specification for estimator info (e.g. \"i\" and \"?\") */\n",
       "\n",
       "/* Common style for \"i\" and \"?\" */\n",
       "\n",
       ".sk-estimator-doc-link,\n",
       "a:link.sk-estimator-doc-link,\n",
       "a:visited.sk-estimator-doc-link {\n",
       "  float: right;\n",
       "  font-size: smaller;\n",
       "  line-height: 1em;\n",
       "  font-family: monospace;\n",
       "  background-color: var(--sklearn-color-background);\n",
       "  border-radius: 1em;\n",
       "  height: 1em;\n",
       "  width: 1em;\n",
       "  text-decoration: none !important;\n",
       "  margin-left: 1ex;\n",
       "  /* unfitted */\n",
       "  border: var(--sklearn-color-unfitted-level-1) 1pt solid;\n",
       "  color: var(--sklearn-color-unfitted-level-1);\n",
       "}\n",
       "\n",
       ".sk-estimator-doc-link.fitted,\n",
       "a:link.sk-estimator-doc-link.fitted,\n",
       "a:visited.sk-estimator-doc-link.fitted {\n",
       "  /* fitted */\n",
       "  border: var(--sklearn-color-fitted-level-1) 1pt solid;\n",
       "  color: var(--sklearn-color-fitted-level-1);\n",
       "}\n",
       "\n",
       "/* On hover */\n",
       "div.sk-estimator:hover .sk-estimator-doc-link:hover,\n",
       ".sk-estimator-doc-link:hover,\n",
       "div.sk-label-container:hover .sk-estimator-doc-link:hover,\n",
       ".sk-estimator-doc-link:hover {\n",
       "  /* unfitted */\n",
       "  background-color: var(--sklearn-color-unfitted-level-3);\n",
       "  color: var(--sklearn-color-background);\n",
       "  text-decoration: none;\n",
       "}\n",
       "\n",
       "div.sk-estimator.fitted:hover .sk-estimator-doc-link.fitted:hover,\n",
       ".sk-estimator-doc-link.fitted:hover,\n",
       "div.sk-label-container:hover .sk-estimator-doc-link.fitted:hover,\n",
       ".sk-estimator-doc-link.fitted:hover {\n",
       "  /* fitted */\n",
       "  background-color: var(--sklearn-color-fitted-level-3);\n",
       "  color: var(--sklearn-color-background);\n",
       "  text-decoration: none;\n",
       "}\n",
       "\n",
       "/* Span, style for the box shown on hovering the info icon */\n",
       ".sk-estimator-doc-link span {\n",
       "  display: none;\n",
       "  z-index: 9999;\n",
       "  position: relative;\n",
       "  font-weight: normal;\n",
       "  right: .2ex;\n",
       "  padding: .5ex;\n",
       "  margin: .5ex;\n",
       "  width: min-content;\n",
       "  min-width: 20ex;\n",
       "  max-width: 50ex;\n",
       "  color: var(--sklearn-color-text);\n",
       "  box-shadow: 2pt 2pt 4pt #999;\n",
       "  /* unfitted */\n",
       "  background: var(--sklearn-color-unfitted-level-0);\n",
       "  border: .5pt solid var(--sklearn-color-unfitted-level-3);\n",
       "}\n",
       "\n",
       ".sk-estimator-doc-link.fitted span {\n",
       "  /* fitted */\n",
       "  background: var(--sklearn-color-fitted-level-0);\n",
       "  border: var(--sklearn-color-fitted-level-3);\n",
       "}\n",
       "\n",
       ".sk-estimator-doc-link:hover span {\n",
       "  display: block;\n",
       "}\n",
       "\n",
       "/* \"?\"-specific style due to the `<a>` HTML tag */\n",
       "\n",
       "#sk-container-id-2 a.estimator_doc_link {\n",
       "  float: right;\n",
       "  font-size: 1rem;\n",
       "  line-height: 1em;\n",
       "  font-family: monospace;\n",
       "  background-color: var(--sklearn-color-background);\n",
       "  border-radius: 1rem;\n",
       "  height: 1rem;\n",
       "  width: 1rem;\n",
       "  text-decoration: none;\n",
       "  /* unfitted */\n",
       "  color: var(--sklearn-color-unfitted-level-1);\n",
       "  border: var(--sklearn-color-unfitted-level-1) 1pt solid;\n",
       "}\n",
       "\n",
       "#sk-container-id-2 a.estimator_doc_link.fitted {\n",
       "  /* fitted */\n",
       "  border: var(--sklearn-color-fitted-level-1) 1pt solid;\n",
       "  color: var(--sklearn-color-fitted-level-1);\n",
       "}\n",
       "\n",
       "/* On hover */\n",
       "#sk-container-id-2 a.estimator_doc_link:hover {\n",
       "  /* unfitted */\n",
       "  background-color: var(--sklearn-color-unfitted-level-3);\n",
       "  color: var(--sklearn-color-background);\n",
       "  text-decoration: none;\n",
       "}\n",
       "\n",
       "#sk-container-id-2 a.estimator_doc_link.fitted:hover {\n",
       "  /* fitted */\n",
       "  background-color: var(--sklearn-color-fitted-level-3);\n",
       "}\n",
       "</style><div id=\"sk-container-id-2\" class=\"sk-top-container\"><div class=\"sk-text-repr-fallback\"><pre>Pipeline(steps=[(&#x27;preprocessor&#x27;,\n",
       "                 ColumnTransformer(remainder=&#x27;passthrough&#x27;,\n",
       "                                   transformers=[(&#x27;wind_trans&#x27;,\n",
       "                                                  Pipeline(steps=[(&#x27;scaler&#x27;,\n",
       "                                                                   StandardScaler())]),\n",
       "                                                  [&#x27;wind_speed&#x27;]),\n",
       "                                                 (&#x27;temp_transformer&#x27;,\n",
       "                                                  Pipeline(steps=[(&#x27;scaler&#x27;,\n",
       "                                                                   RobustScaler())]),\n",
       "                                                  [&#x27;temp&#x27;]),\n",
       "                                                 (&#x27;hum_transformer&#x27;,\n",
       "                                                  Pipeline(steps=[(&#x27;scaler&#x27;,\n",
       "                                                                   RobustScaler())]),\n",
       "                                                  [&#x27;hum&#x27;]),\n",
       "                                                 (&#x27;heat_idx_transformer&#x27;,\n",
       "                                                  Pipeline(steps=[(&#x27;scaler&#x27;,\n",
       "                                                                   RobustScaler())]),\n",
       "                                                  [&#x27;heat_idx&#x27;]),\n",
       "                                                 (&#x27;pres_transformer&#x27;,\n",
       "                                                  Pipeline(steps=[(&#x27;scaler&#x27;,\n",
       "                                                                   RobustScaler())]),\n",
       "                                                  [&#x27;pres&#x27;]),\n",
       "                                                 (&#x27;prec_transformer&#x27;,\n",
       "                                                  Pipeline(steps=[(&#x27;scaler&#x27;,\n",
       "                                                                   RobustScaler())]),\n",
       "                                                  [&#x27;prec&#x27;])])),\n",
       "                (&#x27;model&#x27;, Ridge(alpha=0.01))])</pre><b>In a Jupyter environment, please rerun this cell to show the HTML representation or trust the notebook. <br />On GitHub, the HTML representation is unable to render, please try loading this page with nbviewer.org.</b></div><div class=\"sk-container\" hidden><div class=\"sk-item sk-dashed-wrapped\"><div class=\"sk-label-container\"><div class=\"sk-label fitted sk-toggleable\"><input class=\"sk-toggleable__control sk-hidden--visually\" id=\"sk-estimator-id-18\" type=\"checkbox\" ><label for=\"sk-estimator-id-18\" class=\"sk-toggleable__label fitted sk-toggleable__label-arrow fitted\">&nbsp;&nbsp;Pipeline<a class=\"sk-estimator-doc-link fitted\" rel=\"noreferrer\" target=\"_blank\" href=\"https://scikit-learn.org/1.5/modules/generated/sklearn.pipeline.Pipeline.html\">?<span>Documentation for Pipeline</span></a><span class=\"sk-estimator-doc-link fitted\">i<span>Fitted</span></span></label><div class=\"sk-toggleable__content fitted\"><pre>Pipeline(steps=[(&#x27;preprocessor&#x27;,\n",
       "                 ColumnTransformer(remainder=&#x27;passthrough&#x27;,\n",
       "                                   transformers=[(&#x27;wind_trans&#x27;,\n",
       "                                                  Pipeline(steps=[(&#x27;scaler&#x27;,\n",
       "                                                                   StandardScaler())]),\n",
       "                                                  [&#x27;wind_speed&#x27;]),\n",
       "                                                 (&#x27;temp_transformer&#x27;,\n",
       "                                                  Pipeline(steps=[(&#x27;scaler&#x27;,\n",
       "                                                                   RobustScaler())]),\n",
       "                                                  [&#x27;temp&#x27;]),\n",
       "                                                 (&#x27;hum_transformer&#x27;,\n",
       "                                                  Pipeline(steps=[(&#x27;scaler&#x27;,\n",
       "                                                                   RobustScaler())]),\n",
       "                                                  [&#x27;hum&#x27;]),\n",
       "                                                 (&#x27;heat_idx_transformer&#x27;,\n",
       "                                                  Pipeline(steps=[(&#x27;scaler&#x27;,\n",
       "                                                                   RobustScaler())]),\n",
       "                                                  [&#x27;heat_idx&#x27;]),\n",
       "                                                 (&#x27;pres_transformer&#x27;,\n",
       "                                                  Pipeline(steps=[(&#x27;scaler&#x27;,\n",
       "                                                                   RobustScaler())]),\n",
       "                                                  [&#x27;pres&#x27;]),\n",
       "                                                 (&#x27;prec_transformer&#x27;,\n",
       "                                                  Pipeline(steps=[(&#x27;scaler&#x27;,\n",
       "                                                                   RobustScaler())]),\n",
       "                                                  [&#x27;prec&#x27;])])),\n",
       "                (&#x27;model&#x27;, Ridge(alpha=0.01))])</pre></div> </div></div><div class=\"sk-serial\"><div class=\"sk-item sk-dashed-wrapped\"><div class=\"sk-label-container\"><div class=\"sk-label fitted sk-toggleable\"><input class=\"sk-toggleable__control sk-hidden--visually\" id=\"sk-estimator-id-19\" type=\"checkbox\" ><label for=\"sk-estimator-id-19\" class=\"sk-toggleable__label fitted sk-toggleable__label-arrow fitted\">&nbsp;preprocessor: ColumnTransformer<a class=\"sk-estimator-doc-link fitted\" rel=\"noreferrer\" target=\"_blank\" href=\"https://scikit-learn.org/1.5/modules/generated/sklearn.compose.ColumnTransformer.html\">?<span>Documentation for preprocessor: ColumnTransformer</span></a></label><div class=\"sk-toggleable__content fitted\"><pre>ColumnTransformer(remainder=&#x27;passthrough&#x27;,\n",
       "                  transformers=[(&#x27;wind_trans&#x27;,\n",
       "                                 Pipeline(steps=[(&#x27;scaler&#x27;, StandardScaler())]),\n",
       "                                 [&#x27;wind_speed&#x27;]),\n",
       "                                (&#x27;temp_transformer&#x27;,\n",
       "                                 Pipeline(steps=[(&#x27;scaler&#x27;, RobustScaler())]),\n",
       "                                 [&#x27;temp&#x27;]),\n",
       "                                (&#x27;hum_transformer&#x27;,\n",
       "                                 Pipeline(steps=[(&#x27;scaler&#x27;, RobustScaler())]),\n",
       "                                 [&#x27;hum&#x27;]),\n",
       "                                (&#x27;heat_idx_transformer&#x27;,\n",
       "                                 Pipeline(steps=[(&#x27;scaler&#x27;, RobustScaler())]),\n",
       "                                 [&#x27;heat_idx&#x27;]),\n",
       "                                (&#x27;pres_transformer&#x27;,\n",
       "                                 Pipeline(steps=[(&#x27;scaler&#x27;, RobustScaler())]),\n",
       "                                 [&#x27;pres&#x27;]),\n",
       "                                (&#x27;prec_transformer&#x27;,\n",
       "                                 Pipeline(steps=[(&#x27;scaler&#x27;, RobustScaler())]),\n",
       "                                 [&#x27;prec&#x27;])])</pre></div> </div></div><div class=\"sk-parallel\"><div class=\"sk-parallel-item\"><div class=\"sk-item\"><div class=\"sk-label-container\"><div class=\"sk-label fitted sk-toggleable\"><input class=\"sk-toggleable__control sk-hidden--visually\" id=\"sk-estimator-id-20\" type=\"checkbox\" ><label for=\"sk-estimator-id-20\" class=\"sk-toggleable__label fitted sk-toggleable__label-arrow fitted\">wind_trans</label><div class=\"sk-toggleable__content fitted\"><pre>[&#x27;wind_speed&#x27;]</pre></div> </div></div><div class=\"sk-serial\"><div class=\"sk-item\"><div class=\"sk-serial\"><div class=\"sk-item\"><div class=\"sk-estimator fitted sk-toggleable\"><input class=\"sk-toggleable__control sk-hidden--visually\" id=\"sk-estimator-id-21\" type=\"checkbox\" ><label for=\"sk-estimator-id-21\" class=\"sk-toggleable__label fitted sk-toggleable__label-arrow fitted\">&nbsp;StandardScaler<a class=\"sk-estimator-doc-link fitted\" rel=\"noreferrer\" target=\"_blank\" href=\"https://scikit-learn.org/1.5/modules/generated/sklearn.preprocessing.StandardScaler.html\">?<span>Documentation for StandardScaler</span></a></label><div class=\"sk-toggleable__content fitted\"><pre>StandardScaler()</pre></div> </div></div></div></div></div></div></div><div class=\"sk-parallel-item\"><div class=\"sk-item\"><div class=\"sk-label-container\"><div class=\"sk-label fitted sk-toggleable\"><input class=\"sk-toggleable__control sk-hidden--visually\" id=\"sk-estimator-id-22\" type=\"checkbox\" ><label for=\"sk-estimator-id-22\" class=\"sk-toggleable__label fitted sk-toggleable__label-arrow fitted\">temp_transformer</label><div class=\"sk-toggleable__content fitted\"><pre>[&#x27;temp&#x27;]</pre></div> </div></div><div class=\"sk-serial\"><div class=\"sk-item\"><div class=\"sk-serial\"><div class=\"sk-item\"><div class=\"sk-estimator fitted sk-toggleable\"><input class=\"sk-toggleable__control sk-hidden--visually\" id=\"sk-estimator-id-23\" type=\"checkbox\" ><label for=\"sk-estimator-id-23\" class=\"sk-toggleable__label fitted sk-toggleable__label-arrow fitted\">&nbsp;RobustScaler<a class=\"sk-estimator-doc-link fitted\" rel=\"noreferrer\" target=\"_blank\" href=\"https://scikit-learn.org/1.5/modules/generated/sklearn.preprocessing.RobustScaler.html\">?<span>Documentation for RobustScaler</span></a></label><div class=\"sk-toggleable__content fitted\"><pre>RobustScaler()</pre></div> </div></div></div></div></div></div></div><div class=\"sk-parallel-item\"><div class=\"sk-item\"><div class=\"sk-label-container\"><div class=\"sk-label fitted sk-toggleable\"><input class=\"sk-toggleable__control sk-hidden--visually\" id=\"sk-estimator-id-24\" type=\"checkbox\" ><label for=\"sk-estimator-id-24\" class=\"sk-toggleable__label fitted sk-toggleable__label-arrow fitted\">hum_transformer</label><div class=\"sk-toggleable__content fitted\"><pre>[&#x27;hum&#x27;]</pre></div> </div></div><div class=\"sk-serial\"><div class=\"sk-item\"><div class=\"sk-serial\"><div class=\"sk-item\"><div class=\"sk-estimator fitted sk-toggleable\"><input class=\"sk-toggleable__control sk-hidden--visually\" id=\"sk-estimator-id-25\" type=\"checkbox\" ><label for=\"sk-estimator-id-25\" class=\"sk-toggleable__label fitted sk-toggleable__label-arrow fitted\">&nbsp;RobustScaler<a class=\"sk-estimator-doc-link fitted\" rel=\"noreferrer\" target=\"_blank\" href=\"https://scikit-learn.org/1.5/modules/generated/sklearn.preprocessing.RobustScaler.html\">?<span>Documentation for RobustScaler</span></a></label><div class=\"sk-toggleable__content fitted\"><pre>RobustScaler()</pre></div> </div></div></div></div></div></div></div><div class=\"sk-parallel-item\"><div class=\"sk-item\"><div class=\"sk-label-container\"><div class=\"sk-label fitted sk-toggleable\"><input class=\"sk-toggleable__control sk-hidden--visually\" id=\"sk-estimator-id-26\" type=\"checkbox\" ><label for=\"sk-estimator-id-26\" class=\"sk-toggleable__label fitted sk-toggleable__label-arrow fitted\">heat_idx_transformer</label><div class=\"sk-toggleable__content fitted\"><pre>[&#x27;heat_idx&#x27;]</pre></div> </div></div><div class=\"sk-serial\"><div class=\"sk-item\"><div class=\"sk-serial\"><div class=\"sk-item\"><div class=\"sk-estimator fitted sk-toggleable\"><input class=\"sk-toggleable__control sk-hidden--visually\" id=\"sk-estimator-id-27\" type=\"checkbox\" ><label for=\"sk-estimator-id-27\" class=\"sk-toggleable__label fitted sk-toggleable__label-arrow fitted\">&nbsp;RobustScaler<a class=\"sk-estimator-doc-link fitted\" rel=\"noreferrer\" target=\"_blank\" href=\"https://scikit-learn.org/1.5/modules/generated/sklearn.preprocessing.RobustScaler.html\">?<span>Documentation for RobustScaler</span></a></label><div class=\"sk-toggleable__content fitted\"><pre>RobustScaler()</pre></div> </div></div></div></div></div></div></div><div class=\"sk-parallel-item\"><div class=\"sk-item\"><div class=\"sk-label-container\"><div class=\"sk-label fitted sk-toggleable\"><input class=\"sk-toggleable__control sk-hidden--visually\" id=\"sk-estimator-id-28\" type=\"checkbox\" ><label for=\"sk-estimator-id-28\" class=\"sk-toggleable__label fitted sk-toggleable__label-arrow fitted\">pres_transformer</label><div class=\"sk-toggleable__content fitted\"><pre>[&#x27;pres&#x27;]</pre></div> </div></div><div class=\"sk-serial\"><div class=\"sk-item\"><div class=\"sk-serial\"><div class=\"sk-item\"><div class=\"sk-estimator fitted sk-toggleable\"><input class=\"sk-toggleable__control sk-hidden--visually\" id=\"sk-estimator-id-29\" type=\"checkbox\" ><label for=\"sk-estimator-id-29\" class=\"sk-toggleable__label fitted sk-toggleable__label-arrow fitted\">&nbsp;RobustScaler<a class=\"sk-estimator-doc-link fitted\" rel=\"noreferrer\" target=\"_blank\" href=\"https://scikit-learn.org/1.5/modules/generated/sklearn.preprocessing.RobustScaler.html\">?<span>Documentation for RobustScaler</span></a></label><div class=\"sk-toggleable__content fitted\"><pre>RobustScaler()</pre></div> </div></div></div></div></div></div></div><div class=\"sk-parallel-item\"><div class=\"sk-item\"><div class=\"sk-label-container\"><div class=\"sk-label fitted sk-toggleable\"><input class=\"sk-toggleable__control sk-hidden--visually\" id=\"sk-estimator-id-30\" type=\"checkbox\" ><label for=\"sk-estimator-id-30\" class=\"sk-toggleable__label fitted sk-toggleable__label-arrow fitted\">prec_transformer</label><div class=\"sk-toggleable__content fitted\"><pre>[&#x27;prec&#x27;]</pre></div> </div></div><div class=\"sk-serial\"><div class=\"sk-item\"><div class=\"sk-serial\"><div class=\"sk-item\"><div class=\"sk-estimator fitted sk-toggleable\"><input class=\"sk-toggleable__control sk-hidden--visually\" id=\"sk-estimator-id-31\" type=\"checkbox\" ><label for=\"sk-estimator-id-31\" class=\"sk-toggleable__label fitted sk-toggleable__label-arrow fitted\">&nbsp;RobustScaler<a class=\"sk-estimator-doc-link fitted\" rel=\"noreferrer\" target=\"_blank\" href=\"https://scikit-learn.org/1.5/modules/generated/sklearn.preprocessing.RobustScaler.html\">?<span>Documentation for RobustScaler</span></a></label><div class=\"sk-toggleable__content fitted\"><pre>RobustScaler()</pre></div> </div></div></div></div></div></div></div><div class=\"sk-parallel-item\"><div class=\"sk-item\"><div class=\"sk-label-container\"><div class=\"sk-label fitted sk-toggleable\"><input class=\"sk-toggleable__control sk-hidden--visually\" id=\"sk-estimator-id-32\" type=\"checkbox\" ><label for=\"sk-estimator-id-32\" class=\"sk-toggleable__label fitted sk-toggleable__label-arrow fitted\">remainder</label><div class=\"sk-toggleable__content fitted\"><pre>[]</pre></div> </div></div><div class=\"sk-serial\"><div class=\"sk-item\"><div class=\"sk-estimator fitted sk-toggleable\"><input class=\"sk-toggleable__control sk-hidden--visually\" id=\"sk-estimator-id-33\" type=\"checkbox\" ><label for=\"sk-estimator-id-33\" class=\"sk-toggleable__label fitted sk-toggleable__label-arrow fitted\">passthrough</label><div class=\"sk-toggleable__content fitted\"><pre>passthrough</pre></div> </div></div></div></div></div></div></div><div class=\"sk-item\"><div class=\"sk-estimator fitted sk-toggleable\"><input class=\"sk-toggleable__control sk-hidden--visually\" id=\"sk-estimator-id-34\" type=\"checkbox\" ><label for=\"sk-estimator-id-34\" class=\"sk-toggleable__label fitted sk-toggleable__label-arrow fitted\">&nbsp;Ridge<a class=\"sk-estimator-doc-link fitted\" rel=\"noreferrer\" target=\"_blank\" href=\"https://scikit-learn.org/1.5/modules/generated/sklearn.linear_model.Ridge.html\">?<span>Documentation for Ridge</span></a></label><div class=\"sk-toggleable__content fitted\"><pre>Ridge(alpha=0.01)</pre></div> </div></div></div></div></div></div>"
      ],
      "text/plain": [
       "Pipeline(steps=[('preprocessor',\n",
       "                 ColumnTransformer(remainder='passthrough',\n",
       "                                   transformers=[('wind_trans',\n",
       "                                                  Pipeline(steps=[('scaler',\n",
       "                                                                   StandardScaler())]),\n",
       "                                                  ['wind_speed']),\n",
       "                                                 ('temp_transformer',\n",
       "                                                  Pipeline(steps=[('scaler',\n",
       "                                                                   RobustScaler())]),\n",
       "                                                  ['temp']),\n",
       "                                                 ('hum_transformer',\n",
       "                                                  Pipeline(steps=[('scaler',\n",
       "                                                                   RobustScaler())]),\n",
       "                                                  ['hum']),\n",
       "                                                 ('heat_idx_transformer',\n",
       "                                                  Pipeline(steps=[('scaler',\n",
       "                                                                   RobustScaler())]),\n",
       "                                                  ['heat_idx']),\n",
       "                                                 ('pres_transformer',\n",
       "                                                  Pipeline(steps=[('scaler',\n",
       "                                                                   RobustScaler())]),\n",
       "                                                  ['pres']),\n",
       "                                                 ('prec_transformer',\n",
       "                                                  Pipeline(steps=[('scaler',\n",
       "                                                                   RobustScaler())]),\n",
       "                                                  ['prec'])])),\n",
       "                ('model', Ridge(alpha=0.01))])"
      ]
     },
     "execution_count": 46,
     "metadata": {},
     "output_type": "execute_result"
    }
   ],
   "source": [
    "best_model"
   ]
  },
  {
   "cell_type": "code",
   "execution_count": null,
   "metadata": {
    "id": "JDIOTlLQmBR9",
    "outputId": "f2f0a277-6e9f-4f14-cc42-4854e148cf03"
   },
   "outputs": [
    {
     "data": {
      "text/plain": [
       "Index(['wind_speed', 'temp', 'hum', 'heat_idx', 'pres', 'prec'], dtype='object')"
      ]
     },
     "execution_count": 61,
     "metadata": {},
     "output_type": "execute_result"
    }
   ],
   "source": [
    "X_train.columns"
   ]
  },
  {
   "cell_type": "code",
   "execution_count": null,
   "metadata": {
    "id": "crMEbYBEmBR-",
    "outputId": "7f284793-3808-4b4d-d09f-df68af956198"
   },
   "outputs": [
    {
     "name": "stdout",
     "output_type": "stream",
     "text": [
      "   wind_speed  temp  hum  heat_idx  pres  prec\n",
      "0           3    26   70        25   993   600\n"
     ]
    }
   ],
   "source": [
    "# test = pd.DataFrame(['wind_speed':3, 26, 70, 25, 993, 600])\n",
    "# data = [[3], [26], [70], [25], [993], [600]]\n",
    "# Create the pandas DataFrame\n",
    "# test_df = pd.DataFrame(data, columns=['wind_speed', 'temp', 'hum', 'heat_idx', 'pres', 'prec'])\n",
    "\n",
    "data = [{'wind_speed': 3, 'temp': 26, 'hum': 70, 'heat_idx':25, 'pres':993, 'prec':600}]\n",
    "\n",
    "# Creates DataFrame.\n",
    "test_df = pd.DataFrame(data)\n",
    "\n",
    "print(test_df)\n"
   ]
  },
  {
   "cell_type": "code",
   "execution_count": null,
   "metadata": {
    "id": "6aZTFciImBR-",
    "outputId": "6a7f790c-e583-4741-a1d5-d82812c2595e"
   },
   "outputs": [
    {
     "data": {
      "text/html": [
       "<div>\n",
       "<style scoped>\n",
       "    .dataframe tbody tr th:only-of-type {\n",
       "        vertical-align: middle;\n",
       "    }\n",
       "\n",
       "    .dataframe tbody tr th {\n",
       "        vertical-align: top;\n",
       "    }\n",
       "\n",
       "    .dataframe thead th {\n",
       "        text-align: right;\n",
       "    }\n",
       "</style>\n",
       "<table border=\"1\" class=\"dataframe\">\n",
       "  <thead>\n",
       "    <tr style=\"text-align: right;\">\n",
       "      <th></th>\n",
       "      <th>wind_speed</th>\n",
       "      <th>temp</th>\n",
       "      <th>hum</th>\n",
       "      <th>heat_idx</th>\n",
       "      <th>pres</th>\n",
       "      <th>prec</th>\n",
       "    </tr>\n",
       "  </thead>\n",
       "  <tbody>\n",
       "    <tr>\n",
       "      <th>0</th>\n",
       "      <td>3</td>\n",
       "      <td>26</td>\n",
       "      <td>70</td>\n",
       "      <td>25</td>\n",
       "      <td>993</td>\n",
       "      <td>600</td>\n",
       "    </tr>\n",
       "  </tbody>\n",
       "</table>\n",
       "</div>"
      ],
      "text/plain": [
       "   wind_speed  temp  hum  heat_idx  pres  prec\n",
       "0           3    26   70        25   993   600"
      ]
     },
     "execution_count": 67,
     "metadata": {},
     "output_type": "execute_result"
    }
   ],
   "source": [
    "test_df"
   ]
  },
  {
   "cell_type": "code",
   "execution_count": null,
   "metadata": {
    "id": "2bgDL5OWmBR_",
    "outputId": "b7c1eeca-4715-45dc-8845-62ccd9a0a60b"
   },
   "outputs": [
    {
     "data": {
      "text/html": [
       "<div>\n",
       "<style scoped>\n",
       "    .dataframe tbody tr th:only-of-type {\n",
       "        vertical-align: middle;\n",
       "    }\n",
       "\n",
       "    .dataframe tbody tr th {\n",
       "        vertical-align: top;\n",
       "    }\n",
       "\n",
       "    .dataframe thead th {\n",
       "        text-align: right;\n",
       "    }\n",
       "</style>\n",
       "<table border=\"1\" class=\"dataframe\">\n",
       "  <thead>\n",
       "    <tr style=\"text-align: right;\">\n",
       "      <th></th>\n",
       "      <th>wind_speed</th>\n",
       "      <th>temp</th>\n",
       "      <th>hum</th>\n",
       "      <th>heat_idx</th>\n",
       "      <th>pres</th>\n",
       "      <th>prec</th>\n",
       "    </tr>\n",
       "  </thead>\n",
       "  <tbody>\n",
       "    <tr>\n",
       "      <th>8</th>\n",
       "      <td>2.950000</td>\n",
       "      <td>27.383333</td>\n",
       "      <td>76.850000</td>\n",
       "      <td>30.516667</td>\n",
       "      <td>993.800000</td>\n",
       "      <td>767.400000</td>\n",
       "    </tr>\n",
       "    <tr>\n",
       "      <th>5</th>\n",
       "      <td>2.816667</td>\n",
       "      <td>27.350000</td>\n",
       "      <td>73.866667</td>\n",
       "      <td>29.933333</td>\n",
       "      <td>932.883333</td>\n",
       "      <td>670.366667</td>\n",
       "    </tr>\n",
       "    <tr>\n",
       "      <th>2</th>\n",
       "      <td>2.733333</td>\n",
       "      <td>27.850000</td>\n",
       "      <td>74.566667</td>\n",
       "      <td>31.133333</td>\n",
       "      <td>994.433333</td>\n",
       "      <td>689.066667</td>\n",
       "    </tr>\n",
       "    <tr>\n",
       "      <th>1</th>\n",
       "      <td>3.066667</td>\n",
       "      <td>27.333333</td>\n",
       "      <td>71.550000</td>\n",
       "      <td>29.716667</td>\n",
       "      <td>994.050000</td>\n",
       "      <td>644.800000</td>\n",
       "    </tr>\n",
       "    <tr>\n",
       "      <th>12</th>\n",
       "      <td>2.650000</td>\n",
       "      <td>26.216667</td>\n",
       "      <td>75.200000</td>\n",
       "      <td>28.233333</td>\n",
       "      <td>995.166667</td>\n",
       "      <td>721.600000</td>\n",
       "    </tr>\n",
       "  </tbody>\n",
       "</table>\n",
       "</div>"
      ],
      "text/plain": [
       "    wind_speed       temp        hum   heat_idx        pres        prec\n",
       "8     2.950000  27.383333  76.850000  30.516667  993.800000  767.400000\n",
       "5     2.816667  27.350000  73.866667  29.933333  932.883333  670.366667\n",
       "2     2.733333  27.850000  74.566667  31.133333  994.433333  689.066667\n",
       "1     3.066667  27.333333  71.550000  29.716667  994.050000  644.800000\n",
       "12    2.650000  26.216667  75.200000  28.233333  995.166667  721.600000"
      ]
     },
     "execution_count": 68,
     "metadata": {},
     "output_type": "execute_result"
    }
   ],
   "source": [
    "X_train.head()"
   ]
  },
  {
   "cell_type": "code",
   "execution_count": null,
   "metadata": {
    "id": "aBsVjCEgmBR_",
    "outputId": "67d47870-a320-4cf6-e6d1-5b353e4f20d1"
   },
   "outputs": [
    {
     "name": "stdout",
     "output_type": "stream",
     "text": [
      "[74.30488889]\n"
     ]
    }
   ],
   "source": [
    "prediction = best_model.predict(test_df)\n",
    "print(prediction)"
   ]
  },
  {
   "cell_type": "code",
   "execution_count": null,
   "metadata": {
    "id": "9R3Fe-zcmBR_"
   },
   "outputs": [],
   "source": []
  },
  {
   "cell_type": "code",
   "execution_count": null,
   "metadata": {
    "id": "fQ24_h45mBR_"
   },
   "outputs": [],
   "source": [
    "import joblib\n",
    "\n",
    "filename = 'ML_SC_Yield.pkl'\n",
    "joblib.dump(best_model, open(filename, 'wb'))"
   ]
  },
  {
   "cell_type": "code",
   "execution_count": null,
   "metadata": {
    "id": "_hNz2X4amBSA",
    "outputId": "4bc26519-fe40-4b82-ea56-29887190d0df"
   },
   "outputs": [
    {
     "name": "stdout",
     "output_type": "stream",
     "text": [
      "74.30488888778237\n"
     ]
    }
   ],
   "source": [
    "load_model = joblib.load(open(filename, 'rb'))\n",
    "print(load_model.predict(test_df)[0])"
   ]
  },
  {
   "cell_type": "code",
   "execution_count": null,
   "metadata": {
    "id": "QowSaOZjmBSA"
   },
   "outputs": [],
   "source": []
  }
 ],
 "metadata": {
  "colab": {
   "provenance": []
  },
  "kernelspec": {
   "display_name": "Python 3",
   "language": "python",
   "name": "python3"
  },
  "language_info": {
   "codemirror_mode": {
    "name": "ipython",
    "version": 3
   },
   "file_extension": ".py",
   "mimetype": "text/x-python",
   "name": "python",
   "nbconvert_exporter": "python",
   "pygments_lexer": "ipython3",
   "version": "3.11.3"
  }
 },
 "nbformat": 4,
 "nbformat_minor": 0
}
